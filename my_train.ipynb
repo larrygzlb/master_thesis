{
 "cells": [
  {
   "cell_type": "code",
   "execution_count": 4,
   "metadata": {},
   "outputs": [
    {
     "name": "stdout",
     "output_type": "stream",
     "text": [
      "2.0.1\n",
      "0.15.2\n",
      "E:/UIE_larry/UIE_larry/my_practice/datasets/mydatasets/my_aligned_train_dataset\n"
     ]
    }
   ],
   "source": [
    "import sys\n",
    "import torch\n",
    "import torchvision\n",
    "import os\n",
    "from dotenv import load_dotenv\n",
    "\n",
    "print(torch.__version__)\n",
    "print(torchvision.__version__)\n",
    "\n",
    "sys.argv = [\"\"]\n",
    "load_dotenv(\"config.env\")\n",
    "\n",
    "print(os.getenv(\"trainset_dir\"))"
   ]
  },
  {
   "cell_type": "code",
   "execution_count": 2,
   "metadata": {},
   "outputs": [],
   "source": [
    "import time\n",
    "from options.train.my_train_options import TrainOptions\n",
    "from data import create_dataset\n",
    "from models import create_model\n",
    "from util.visualizer import Visualizer"
   ]
  },
  {
   "cell_type": "code",
   "execution_count": 5,
   "metadata": {},
   "outputs": [
    {
     "name": "stdout",
     "output_type": "stream",
     "text": [
      "----------------- Options ---------------\n",
      "               batch_size: 1                             \n",
      "                    beta1: 0.5                           \n",
      "          checkpoints_dir: ./checkpoints                 \n",
      "           continue_train: False                         \n",
      "                crop_size: 256                           \n",
      "                 dataroot: E:/UIE_larry/UIE_larry/my_practice/datasets/mydatasets/my_aligned_train_dataset\n",
      "             dataset_mode: aligned                       \n",
      "                direction: AtoB                          \n",
      "              display_env: main                          \n",
      "             display_freq: 400                           \n",
      "               display_id: -1                            \n",
      "            display_ncols: 4                             \n",
      "             display_port: 8097                          \n",
      "           display_server: http://localhost              \n",
      "          display_winsize: 256                           \n",
      "                    epoch: latest                        \n",
      "              epoch_count: 1                             \n",
      "                 gan_mode: lsgan                         \n",
      "                  gpu_ids: 0                             \n",
      "                init_gain: 0.02                          \n",
      "                init_type: normal                        \n",
      "                 input_nc: 3                             \n",
      "                  isTrain: True                          \t[default: None]\n",
      "                lambda_L1: 1.0                           \n",
      "                load_iter: 0                             \t[default: 0]\n",
      "                load_size: 286                           \n",
      "                       lr: 0.0002                        \n",
      "           lr_decay_iters: 50                            \n",
      "                lr_policy: linear                        \n",
      "         max_dataset_size: inf                           \n",
      "                    model: pix2pix                       \n",
      "                 n_epochs: 100                           \n",
      "           n_epochs_decay: 100                           \n",
      "               n_layers_D: 3                             \n",
      "                     name: unet_rgb_L2                   \n",
      "                      ndf: 64                            \n",
      "                     netD: basic                         \n",
      "                     netG: unet_256                      \n",
      "                      ngf: 64                            \n",
      "               no_dropout: False                         \n",
      "                  no_flip: False                         \n",
      "                  no_html: False                         \n",
      "                     norm: batch                         \n",
      "              num_threads: 4                             \n",
      "                output_nc: 3                             \n",
      "                    phase: train                         \n",
      "                pool_size: 0                             \n",
      "               preprocess: resize_and_crop               \n",
      "               print_freq: 100                           \n",
      "             save_by_iter: False                         \n",
      "          save_epoch_freq: 5                             \n",
      "         save_latest_freq: 5000                          \n",
      "           serial_batches: False                         \n",
      "                   suffix:                               \n",
      "         update_html_freq: 1000                          \n",
      "                use_wandb: False                         \n",
      "                  verbose: False                         \n",
      "       wandb_project_name: CycleGAN-and-pix2pix          \n",
      "----------------- End -------------------\n"
     ]
    }
   ],
   "source": [
    "opt = TrainOptions().parse()  # get training options"
   ]
  },
  {
   "cell_type": "code",
   "execution_count": 6,
   "metadata": {},
   "outputs": [
    {
     "name": "stdout",
     "output_type": "stream",
     "text": [
      "dataset [AlignedDataset] was created\n"
     ]
    }
   ],
   "source": [
    "dataset = create_dataset(\n",
    "    opt\n",
    ")  # create a dataset given opt.dataset_mode and other options"
   ]
  },
  {
   "cell_type": "code",
   "execution_count": 7,
   "metadata": {},
   "outputs": [
    {
     "name": "stdout",
     "output_type": "stream",
     "text": [
      "----------------- Options ---------------\n",
      "             aspect_ratio: 1.0                           \n",
      "               batch_size: 1                             \n",
      "          checkpoints_dir: ./checkpoints                 \n",
      "                crop_size: 256                           \n",
      "                 dataroot: E:/UIE_larry/UIE_larry/my_practice/datasets/mydatasets/my_aligned_valid_dataset\n",
      "             dataset_mode: aligned                       \n",
      "                direction: AtoB                          \n",
      "          display_winsize: 256                           \n",
      "                    epoch: latest                        \n",
      "                     eval: True                          \n",
      "                  gpu_ids: 0                             \n",
      "                init_gain: 0.02                          \n",
      "                init_type: normal                        \n",
      "                 input_nc: 3                             \n",
      "                  isTrain: False                         \t[default: None]\n",
      "                load_iter: 0                             \t[default: 0]\n",
      "                load_size: 256                           \n",
      "         max_dataset_size: inf                           \n",
      "                    model: pix2pix                       \n",
      "               n_layers_D: 3                             \n",
      "                     name: facades_pix2pix               \n",
      "                      ndf: 64                            \n",
      "                     netD: basic                         \n",
      "                     netG: unet_256                      \n",
      "                      ngf: 64                            \n",
      "               no_dropout: False                         \n",
      "                  no_flip: False                         \n",
      "                     norm: batch                         \n",
      "                 num_test: 400                           \n",
      "              num_threads: 4                             \n",
      "                output_nc: 3                             \n",
      "                    phase: val                           \n",
      "               preprocess: resize_and_crop               \n",
      "              results_dir: ./results/                    \n",
      "           serial_batches: False                         \n",
      "                   suffix:                               \n",
      "                use_wandb: False                         \n",
      "                  verbose: False                         \n",
      "       wandb_project_name: CycleGAN-and-pix2pix          \n",
      "----------------- End -------------------\n"
     ]
    }
   ],
   "source": [
    "from options.valid.my_valid_options import ValidOptions\n",
    "\n",
    "valid_opt = ValidOptions().parse()  # get test options"
   ]
  },
  {
   "cell_type": "code",
   "execution_count": 8,
   "metadata": {},
   "outputs": [
    {
     "name": "stdout",
     "output_type": "stream",
     "text": [
      "dataset [AlignedDataset] was created\n"
     ]
    }
   ],
   "source": [
    "# hard-code some parameters for test\n",
    "valid_opt.num_threads = 0  # test code only supports num_threads = 0\n",
    "valid_opt.batch_size = 1  # test code only supports batch_size = 1\n",
    "# disable data shuffling; comment this line if results on randomly chosen images are needed.\n",
    "valid_opt.serial_batches = True\n",
    "valid_opt.no_flip = (\n",
    "    True  # no flip; comment this line if results on flipped images are needed.\n",
    ")\n",
    "valid_opt.display_id = (\n",
    "    -1\n",
    ")  # no visdom display; the test code saves the results to a HTML file.\n",
    "valid_dataset = create_dataset(\n",
    "    valid_opt\n",
    ")  # create a dataset given opt.dataset_mode and other options"
   ]
  },
  {
   "cell_type": "code",
   "execution_count": 9,
   "metadata": {},
   "outputs": [
    {
     "name": "stdout",
     "output_type": "stream",
     "text": [
      "The number of valid images = 200\n"
     ]
    }
   ],
   "source": [
    "# get the number of images in the dataset.\n",
    "valid_dataset_size = len(valid_dataset)\n",
    "print(\"The number of valid images = %d\" % valid_dataset_size)"
   ]
  },
  {
   "cell_type": "code",
   "execution_count": 10,
   "metadata": {},
   "outputs": [
    {
     "name": "stdout",
     "output_type": "stream",
     "text": [
      "The number of training images = 3679\n"
     ]
    }
   ],
   "source": [
    "dataset_size = len(dataset)  # get the number of images in the dataset.\n",
    "print(\"The number of training images = %d\" % dataset_size)"
   ]
  },
  {
   "cell_type": "code",
   "execution_count": 11,
   "metadata": {},
   "outputs": [
    {
     "name": "stdout",
     "output_type": "stream",
     "text": [
      "initialize network with normal\n",
      "initialize network with normal\n",
      "model [Pix2PixModel] was created\n",
      "---------- Networks initialized -------------\n",
      "[Network G] Total number of parameters : 54.414 M\n",
      "[Network D] Total number of parameters : 2.769 M\n",
      "-----------------------------------------------\n"
     ]
    }
   ],
   "source": [
    "model = create_model(opt)  # create a model given opt.model and other options\n",
    "model.setup(opt)  # regular setup: load and print networks; create schedulers"
   ]
  },
  {
   "cell_type": "code",
   "execution_count": 12,
   "metadata": {},
   "outputs": [
    {
     "data": {
      "text/plain": [
       "{'A': tensor([[[[ 0.0980,  0.0980,  0.1059,  ...,  0.9843,  0.8824,  0.6078],\n",
       "           [ 0.0745,  0.0745,  0.0902,  ...,  0.5294,  0.3569,  0.0588],\n",
       "           [ 0.0745,  0.0745,  0.0667,  ..., -0.0039, -0.0824, -0.2392],\n",
       "           ...,\n",
       "           [ 0.8353,  0.8039,  0.7725,  ...,  0.0745,  0.0667,  0.1137],\n",
       "           [ 0.8275,  0.7882,  0.7647,  ...,  0.0588,  0.0431,  0.0824],\n",
       "           [ 0.8588,  0.8118,  0.7804,  ...,  0.0353,  0.0275,  0.0275]],\n",
       " \n",
       "          [[-0.0745, -0.0588, -0.0353,  ...,  0.9059,  0.7882,  0.5216],\n",
       "           [-0.0745, -0.0588, -0.0353,  ...,  0.4118,  0.2235, -0.0353],\n",
       "           [-0.0667, -0.0588, -0.0431,  ..., -0.1529, -0.2471, -0.3569],\n",
       "           ...,\n",
       "           [ 0.3725,  0.3490,  0.3333,  ..., -0.0196, -0.0275, -0.0039],\n",
       "           [ 0.3647,  0.3333,  0.3176,  ..., -0.0275, -0.0510, -0.0275],\n",
       "           [ 0.3961,  0.3490,  0.3255,  ..., -0.0353, -0.0667, -0.0824]],\n",
       " \n",
       "          [[-0.3647, -0.3569, -0.3412,  ...,  0.4039,  0.2941,  0.2392],\n",
       "           [-0.3725, -0.3647, -0.3490,  ..., -0.0353, -0.2078, -0.3176],\n",
       "           [-0.3647, -0.3569, -0.3569,  ..., -0.4902, -0.5686, -0.6314],\n",
       "           ...,\n",
       "           [ 0.0431,  0.0039, -0.0196,  ..., -0.3490, -0.3569, -0.3020],\n",
       "           [ 0.0196, -0.0196, -0.0353,  ..., -0.3569, -0.3804, -0.3412],\n",
       "           [ 0.0510,  0.0039, -0.0275,  ..., -0.3725, -0.3961, -0.3961]]]]),\n",
       " 'B': tensor([[[[-0.4745, -0.4588, -0.4275,  ...,  0.4118,  0.4824,  0.1843],\n",
       "           [-0.4824, -0.4510, -0.4118,  ..., -0.0745, -0.3020, -0.5137],\n",
       "           [-0.4745, -0.4431, -0.4196,  ..., -0.5843, -0.8118, -0.8667],\n",
       "           ...,\n",
       "           [ 0.2784,  0.2392,  0.2157,  ..., -0.5137, -0.4980, -0.4196],\n",
       "           [ 0.2627,  0.2078,  0.2000,  ..., -0.5451, -0.5373, -0.4745],\n",
       "           [ 0.2941,  0.2235,  0.2078,  ..., -0.5529, -0.5686, -0.5373]],\n",
       " \n",
       "          [[-0.4824, -0.4588, -0.4275,  ...,  0.8588,  0.8980,  0.3098],\n",
       "           [-0.4745, -0.4431, -0.3961,  ...,  0.2314, -0.0118, -0.4353],\n",
       "           [-0.4667, -0.4275, -0.3882,  ..., -0.4667, -0.7255, -0.8275],\n",
       "           ...,\n",
       "           [ 0.2078,  0.1608,  0.1451,  ..., -0.4510, -0.4039, -0.3882],\n",
       "           [ 0.1922,  0.1373,  0.1294,  ..., -0.4588, -0.4510, -0.4431],\n",
       "           [ 0.2235,  0.1529,  0.1373,  ..., -0.4667, -0.4824, -0.5059]],\n",
       " \n",
       "          [[-0.5765, -0.5608, -0.5373,  ...,  0.6706,  0.7333,  0.2784],\n",
       "           [-0.5765, -0.5529, -0.5137,  ...,  0.0588, -0.2000, -0.4745],\n",
       "           [-0.5686, -0.5373, -0.5059,  ..., -0.6157, -0.8667, -0.8824],\n",
       "           ...,\n",
       "           [ 0.2706,  0.2157,  0.1843,  ..., -0.5529, -0.5137, -0.4431],\n",
       "           [ 0.2627,  0.1843,  0.1608,  ..., -0.5686, -0.5608, -0.4980],\n",
       "           [ 0.2863,  0.2000,  0.1765,  ..., -0.5765, -0.5922, -0.5686]]]]),\n",
       " 'A_paths': ['E:/UIE_larry/UIE_larry/my_practice/datasets/mydatasets/my_aligned_train_dataset\\\\train\\\\986.jpg'],\n",
       " 'B_paths': ['E:/UIE_larry/UIE_larry/my_practice/datasets/mydatasets/my_aligned_train_dataset\\\\train\\\\986.jpg']}"
      ]
     },
     "execution_count": 12,
     "metadata": {},
     "output_type": "execute_result"
    }
   ],
   "source": [
    "# 假设 'dataset' 是一个 PyTorch DataLoader 实例\n",
    "data_iterator = iter(dataset)\n",
    "\n",
    "# 使用 next() 方法获取一批数据\n",
    "one_batch = next(data_iterator)\n",
    "\n",
    "one_batch"
   ]
  },
  {
   "cell_type": "code",
   "execution_count": 13,
   "metadata": {},
   "outputs": [],
   "source": [
    "# 提取输入图像（A）和目标图像（B）的张量\n",
    "A_images = one_batch[\"A\"]\n",
    "B_images = one_batch[\"B\"]\n",
    "\n",
    "# 如果存在，提取图像路径（A_paths 和 B_paths）\n",
    "A_paths = one_batch.get(\n",
    "    \"A_paths\", None\n",
    ")  # 使用 get 方法可以避免 KeyError，如果键不存在，返回 None\n",
    "B_paths = one_batch.get(\"B_paths\", None)\n",
    "\n",
    "# 现在你可以使用 A_images 和 B_images 进行模型训练或测试\n",
    "# A_paths 和 B_paths 可以用于追踪图像的来源或进行其他的记录工作"
   ]
  },
  {
   "cell_type": "code",
   "execution_count": 14,
   "metadata": {},
   "outputs": [
    {
     "data": {
      "text/plain": [
       "torch.Size([1, 3, 256, 256])"
      ]
     },
     "execution_count": 14,
     "metadata": {},
     "output_type": "execute_result"
    }
   ],
   "source": [
    "A_images.shape"
   ]
  },
  {
   "cell_type": "code",
   "execution_count": 3,
   "metadata": {},
   "outputs": [
    {
     "name": "stdout",
     "output_type": "stream",
     "text": [
      "2.0.1\n",
      "0.15.2\n",
      "E:/UIE_larry/UIE_larry/my_practice/datasets/mydatasets/my_aligned_train_dataset\n"
     ]
    }
   ],
   "source": [
    "from util.visualizer import Visualizer\n",
    "from models import create_model\n",
    "from data import create_dataset\n",
    "from options.train.my_train_options import TrainOptions\n",
    "import time\n",
    "import sys\n",
    "import torch\n",
    "import torchvision\n",
    "import os\n",
    "from dotenv import load_dotenv\n",
    "\n",
    "print(torch.__version__)\n",
    "print(torchvision.__version__)\n",
    "\n",
    "sys.argv = [\"\"]\n",
    "load_dotenv(\"config.env\")\n",
    "\n",
    "print(os.getenv(\"trainset_dir\"))"
   ]
  },
  {
   "cell_type": "code",
   "execution_count": 4,
   "metadata": {},
   "outputs": [
    {
     "name": "stdout",
     "output_type": "stream",
     "text": [
      "----------------- Options ---------------\n",
      "               batch_size: 1                             \n",
      "                    beta1: 0.5                           \n",
      "          checkpoints_dir: ./checkpoints                 \n",
      "           continue_train: False                         \n",
      "                crop_size: 256                           \n",
      "                 dataroot: E:/UIE_larry/UIE_larry/my_practice/datasets/mydatasets/my_aligned_train_dataset\n",
      "             dataset_mode: aligned                       \n",
      "                direction: AtoB                          \n",
      "              display_env: main                          \n",
      "             display_freq: 400                           \n",
      "               display_id: -1                            \n",
      "            display_ncols: 4                             \n",
      "             display_port: 8097                          \n",
      "           display_server: http://localhost              \n",
      "          display_winsize: 256                           \n",
      "                    epoch: latest                        \n",
      "              epoch_count: 1                             \n",
      "                 gan_mode: lsgan                         \n",
      "                  gpu_ids: 0                             \n",
      "                init_gain: 0.02                          \n",
      "                init_type: normal                        \n",
      "                 input_nc: 3                             \n",
      "                  isTrain: True                          \t[default: None]\n",
      "                lambda_L1: 1.0                           \n",
      "                load_iter: 0                             \t[default: 0]\n",
      "                load_size: 286                           \n",
      "                       lr: 0.0002                        \n",
      "           lr_decay_iters: 50                            \n",
      "                lr_policy: linear                        \n",
      "         max_dataset_size: inf                           \n",
      "                    model: pix2pix                       \n",
      "                 n_epochs: 100                           \n",
      "           n_epochs_decay: 100                           \n",
      "               n_layers_D: 3                             \n",
      "                     name: unet_rgb_L2                   \n",
      "                      ndf: 64                            \n",
      "                     netD: basic                         \n",
      "                     netG: unet_256                      \n",
      "                      ngf: 64                            \n",
      "               no_dropout: False                         \n",
      "                  no_flip: False                         \n",
      "                  no_html: False                         \n",
      "                     norm: batch                         \n",
      "              num_threads: 4                             \n",
      "                output_nc: 3                             \n",
      "                    phase: train                         \n",
      "                pool_size: 0                             \n",
      "               preprocess: resize_and_crop               \n",
      "               print_freq: 100                           \n",
      "             save_by_iter: False                         \n",
      "          save_epoch_freq: 5                             \n",
      "         save_latest_freq: 5000                          \n",
      "           serial_batches: False                         \n",
      "                   suffix:                               \n",
      "         update_html_freq: 1000                          \n",
      "                use_wandb: False                         \n",
      "                  verbose: False                         \n",
      "       wandb_project_name: CycleGAN-and-pix2pix          \n",
      "----------------- End -------------------\n"
     ]
    }
   ],
   "source": [
    "import torch\n",
    "from torch.utils.tensorboard import SummaryWriter\n",
    "\n",
    "writer = SummaryWriter()\n",
    "opt = TrainOptions().parse()  # get training options"
   ]
  },
  {
   "cell_type": "code",
   "execution_count": 5,
   "metadata": {},
   "outputs": [
    {
     "name": "stdout",
     "output_type": "stream",
     "text": [
      "----------------- Options ---------------\n",
      "               batch_size: 1                             \n",
      "                    beta1: 0.5                           \n",
      "          checkpoints_dir: ./checkpoints                 \n",
      "           continue_train: False                         \n",
      "                crop_size: 256                           \n",
      "                 dataroot: E:/UIE_larry/UIE_larry/my_practice/datasets/mydatasets/my_aligned_train_dataset\n",
      "             dataset_mode: aligned                       \n",
      "                direction: AtoB                          \n",
      "              display_env: main                          \n",
      "             display_freq: 400                           \n",
      "               display_id: -1                            \n",
      "            display_ncols: 4                             \n",
      "             display_port: 8097                          \n",
      "           display_server: http://localhost              \n",
      "          display_winsize: 256                           \n",
      "                    epoch: latest                        \n",
      "              epoch_count: 1                             \n",
      "                 gan_mode: lsgan                         \n",
      "                  gpu_ids: 0                             \n",
      "                init_gain: 0.02                          \n",
      "                init_type: normal                        \n",
      "                 input_nc: 3                             \n",
      "                  isTrain: True                          \t[default: None]\n",
      "                lambda_L1: 1.0                           \n",
      "                load_iter: 0                             \t[default: 0]\n",
      "                load_size: 286                           \n",
      "                       lr: 0.0002                        \n",
      "           lr_decay_iters: 50                            \n",
      "                lr_policy: linear                        \n",
      "         max_dataset_size: inf                           \n",
      "                    model: pix2pix                       \n",
      "                 n_epochs: 100                           \n",
      "           n_epochs_decay: 100                           \n",
      "               n_layers_D: 3                             \n",
      "                     name: unet_rgb_L2                   \n",
      "                      ndf: 64                            \n",
      "                     netD: basic                         \n",
      "                     netG: unet_256                      \n",
      "                      ngf: 64                            \n",
      "               no_dropout: False                         \n",
      "                  no_flip: False                         \n",
      "                  no_html: False                         \n",
      "                     norm: batch                         \n",
      "              num_threads: 4                             \n",
      "                output_nc: 3                             \n",
      "                    phase: train                         \n",
      "                pool_size: 0                             \n",
      "               preprocess: resize_and_crop               \n",
      "               print_freq: 100                           \n",
      "             save_by_iter: False                         \n",
      "          save_epoch_freq: 5                             \n",
      "         save_latest_freq: 5000                          \n",
      "           serial_batches: False                         \n",
      "                   suffix:                               \n",
      "         update_html_freq: 1000                          \n",
      "                use_wandb: False                         \n",
      "                  verbose: False                         \n",
      "       wandb_project_name: CycleGAN-and-pix2pix          \n",
      "----------------- End -------------------\n",
      "dataset [AlignedDataset] was created\n",
      "The number of training images = 3679\n",
      "initialize network with normal\n",
      "initialize network with normal\n",
      "model [Pix2PixModel] was created\n",
      "---------- Networks initialized -------------\n",
      "[Network G] Total number of parameters : 54.414 M\n",
      "[Network D] Total number of parameters : 2.769 M\n",
      "-----------------------------------------------\n",
      "create web directory ./checkpoints\\unet_rgb_L2\\web...\n",
      "learning rate 0.0002000 -> 0.0002000\n"
     ]
    },
    {
     "name": "stderr",
     "output_type": "stream",
     "text": [
      "e:\\anaconda3\\envs\\inpainting-basic\\Lib\\site-packages\\torch\\optim\\lr_scheduler.py:139: UserWarning: Detected call of `lr_scheduler.step()` before `optimizer.step()`. In PyTorch 1.1.0 and later, you should call them in the opposite order: `optimizer.step()` before `lr_scheduler.step()`.  Failure to do this will result in PyTorch skipping the first value of the learning rate schedule. See more details at https://pytorch.org/docs/stable/optim.html#how-to-adjust-learning-rate\n",
      "  warnings.warn(\"Detected call of `lr_scheduler.step()` before `optimizer.step()`. \"\n"
     ]
    },
    {
     "name": "stdout",
     "output_type": "stream",
     "text": [
      "(epoch: 1, iters: 100, time: 0.079, data: 8.511) G_GAN: 0.448 G_L2: 0.141 D_real: 0.302 D_fake: 0.366 \n",
      "(epoch: 1, iters: 200, time: 0.080, data: 0.000) G_GAN: 0.327 G_L2: 0.127 D_real: 0.416 D_fake: 0.289 \n",
      "(epoch: 1, iters: 300, time: 0.080, data: 0.001) G_GAN: 0.477 G_L2: 0.097 D_real: 0.395 D_fake: 0.360 \n",
      "(epoch: 1, iters: 400, time: 0.152, data: 0.001) G_GAN: 0.272 G_L2: 0.038 D_real: 0.299 D_fake: 0.234 \n",
      "(epoch: 1, iters: 500, time: 0.082, data: 0.001) G_GAN: 0.283 G_L2: 0.025 D_real: 0.256 D_fake: 0.283 \n",
      "(epoch: 1, iters: 600, time: 0.082, data: 0.001) G_GAN: 0.246 G_L2: 0.050 D_real: 0.257 D_fake: 0.248 \n",
      "(epoch: 1, iters: 700, time: 0.082, data: 0.001) G_GAN: 0.269 G_L2: 0.097 D_real: 0.279 D_fake: 0.277 \n",
      "(epoch: 1, iters: 800, time: 0.082, data: 0.001) G_GAN: 0.246 G_L2: 0.036 D_real: 0.245 D_fake: 0.268 \n",
      "(epoch: 1, iters: 900, time: 0.083, data: 0.000) G_GAN: 0.253 G_L2: 0.071 D_real: 0.260 D_fake: 0.242 \n",
      "(epoch: 1, iters: 1000, time: 0.082, data: 0.000) G_GAN: 0.290 G_L2: 0.028 D_real: 0.339 D_fake: 0.193 \n",
      "(epoch: 1, iters: 1100, time: 0.083, data: 0.000) G_GAN: 0.281 G_L2: 0.047 D_real: 0.268 D_fake: 0.259 \n",
      "(epoch: 1, iters: 1200, time: 0.082, data: 0.001) G_GAN: 0.263 G_L2: 0.178 D_real: 0.257 D_fake: 0.266 \n",
      "(epoch: 1, iters: 1300, time: 0.083, data: 0.000) G_GAN: 0.262 G_L2: 0.038 D_real: 0.243 D_fake: 0.302 \n"
     ]
    }
   ],
   "source": [
    "opt = TrainOptions().parse()  # get training options\n",
    "dataset = create_dataset(\n",
    "    opt\n",
    ")  # create a dataset given opt.dataset_mode and other options\n",
    "dataset_size = len(dataset)  # get the number of images in the dataset.\n",
    "print(\"The number of training images = %d\" % dataset_size)\n",
    "\n",
    "model = create_model(opt)  # create a model given opt.model and other options\n",
    "model.setup(opt)  # regular setup: load and print networks; create schedulers\n",
    "# create a visualizer that display/save images and plots\n",
    "visualizer = Visualizer(opt)\n",
    "total_iters = 0  # the total number of training iterations\n",
    "\n",
    "for epoch in range(\n",
    "    opt.epoch_count, opt.n_epochs + opt.n_epochs_decay + 1\n",
    "):  # outer loop for different epochs; we save the model by <epoch_count>, <epoch_count>+<save_latest_freq>\n",
    "    epoch_start_time = time.time()  # timer for entire epoch\n",
    "    iter_data_time = time.time()  # timer for data loading per iteration\n",
    "    epoch_iter = (\n",
    "        0  # the number of training iterations in current epoch, reset to 0 every epoch\n",
    "    )\n",
    "    # reset the visualizer: make sure it saves the results to HTML at least once every epoch\n",
    "    visualizer.reset()\n",
    "    # update learning rates in the beginning of every epoch.\n",
    "    model.update_learning_rate()\n",
    "    for i, data in enumerate(dataset):  # inner loop within one epoch\n",
    "        iter_start_time = time.time()  # timer for computation per iteration\n",
    "        if total_iters % opt.print_freq == 0:\n",
    "            t_data = iter_start_time - iter_data_time\n",
    "\n",
    "        total_iters += opt.batch_size\n",
    "        epoch_iter += opt.batch_size\n",
    "        # unpack data from dataset and apply preprocessing\n",
    "        model.set_input(data)\n",
    "        # calculate loss functions, get gradients, update network weights\n",
    "        model.optimize_parameters()\n",
    "\n",
    "        if (\n",
    "            total_iters % opt.display_freq == 0\n",
    "        ):  # display images on visdom and save images to a HTML file\n",
    "            save_result = total_iters % opt.update_html_freq == 0\n",
    "            model.compute_visuals()\n",
    "            visualizer.display_current_results(\n",
    "                model.get_current_visuals(), epoch, save_result\n",
    "            )\n",
    "\n",
    "        if (\n",
    "            total_iters % opt.print_freq == 0\n",
    "        ):  # print training losses and save logging information to the disk\n",
    "            losses = model.get_current_losses()\n",
    "            t_comp = (time.time() - iter_start_time) / opt.batch_size\n",
    "            visualizer.print_current_losses(epoch, epoch_iter, losses, t_comp, t_data)\n",
    "            if opt.display_id > 0:\n",
    "                visualizer.plot_current_losses(\n",
    "                    epoch, float(epoch_iter) / dataset_size, losses\n",
    "                )\n",
    "\n",
    "        if (\n",
    "            total_iters % opt.save_latest_freq == 0\n",
    "        ):  # cache our latest model every <save_latest_freq> iterations\n",
    "            print(\n",
    "                \"saving the latest model (epoch %d, total_iters %d)\"\n",
    "                % (epoch, total_iters)\n",
    "            )\n",
    "            save_suffix = \"iter_%d\" % total_iters if opt.save_by_iter else \"latest\"\n",
    "            model.save_networks(save_suffix)\n",
    "\n",
    "        iter_data_time = time.time()\n",
    "    if (\n",
    "        epoch % opt.save_epoch_freq == 0\n",
    "    ):  # cache our model every <save_epoch_freq> epochs\n",
    "        print(\n",
    "            \"saving the model at the end of epoch %d, iters %d\" % (epoch, total_iters)\n",
    "        )\n",
    "        model.save_networks(\"latest\")\n",
    "        model.save_networks(epoch)\n",
    "\n",
    "    # print(\"Computing the following metrics for monitoring: PSNR and SSIM\")\n",
    "    # model_for_eval = model\n",
    "    # model_for_eval.eval()\n",
    "    # for i, data in enumerate(valid_dataset):\n",
    "    #     if i >= opt.num_test:  # only apply our model to opt.num_test images.\n",
    "    #         break\n",
    "    #     model_for_eval.set_input(data)  # unpack data from data loader\n",
    "    #     model_for_eval.foward()  # run inference\n",
    "\n",
    "    print(\n",
    "        \"End of epoch %d / %d \\t Time Taken: %d sec\"\n",
    "        % (epoch, opt.n_epochs + opt.n_epochs_decay, time.time() - epoch_start_time)\n",
    "    )"
   ]
  },
  {
   "cell_type": "code",
   "execution_count": null,
   "metadata": {},
   "outputs": [],
   "source": []
  },
  {
   "cell_type": "code",
   "execution_count": null,
   "metadata": {},
   "outputs": [],
   "source": []
  },
  {
   "cell_type": "code",
   "execution_count": null,
   "metadata": {},
   "outputs": [],
   "source": []
  }
 ],
 "metadata": {
  "kernelspec": {
   "display_name": "inpainting-basic",
   "language": "python",
   "name": "python3"
  },
  "language_info": {
   "codemirror_mode": {
    "name": "ipython",
    "version": 3
   },
   "file_extension": ".py",
   "mimetype": "text/x-python",
   "name": "python",
   "nbconvert_exporter": "python",
   "pygments_lexer": "ipython3",
   "version": "3.11.5"
  }
 },
 "nbformat": 4,
 "nbformat_minor": 2
}
